{
 "cells": [
  {
   "cell_type": "code",
   "execution_count": null,
   "id": "a267855f",
   "metadata": {},
   "outputs": [
    {
     "name": "stdout",
     "output_type": "stream",
     "text": [
      "     hora        dia1         dia2\n",
      "0   00:00        Sono         Sono\n",
      "1   00:30        Sono         Sono\n",
      "2   01:00        Sono         Sono\n",
      "3   01:30        Sono         Sono\n",
      "4   02:00        Sono         Sono\n",
      "5   02:30        Sono         Sono\n",
      "6   03:00        Sono         Sono\n",
      "7   03:30        Sono         Sono\n",
      "8   04:00        Sono         Sono\n",
      "9   04:30        Sono         Sono\n",
      "10  05:00        Sono         Sono\n",
      "11  05:30        Sono         Sono\n",
      "12  06:00        Sono         Sono\n",
      "13  06:30        Sono         Sono\n",
      "14  07:00        Sono         Sono\n",
      "15  07:30        Sono         Sono\n",
      "16  08:00    Trabalho     Trabalho\n",
      "17  08:30    Trabalho     Trabalho\n",
      "18  09:00    Trabalho     Trabalho\n",
      "19  09:30    Trabalho     Trabalho\n",
      "20  10:00    Trabalho     Trabalho\n",
      "21  10:30    Trabalho     Trabalho\n",
      "22  11:00    Trabalho     Trabalho\n",
      "23  11:30    Trabalho     Trabalho\n",
      "24  12:00      almoço      mercado\n",
      "25  12:30     cochilo      mercado\n",
      "26  13:00    Trabalho     Trabalho\n",
      "27  13:30    Trabalho     Trabalho\n",
      "28  14:00    Trabalho     Trabalho\n",
      "29  14:30    Trabalho     Trabalho\n",
      "30  15:00    Trabalho     Trabalho\n",
      "31  15:30    Trabalho     Trabalho\n",
      "32  16:00    Trabalho     Trabalho\n",
      "33  16:30    Trabalho     Trabalho\n",
      "34  17:00    Trabalho     Trabalho\n",
      "35  17:30    Trabalho     Trabalho\n",
      "36  18:00    Trabalho  Alimentação\n",
      "37  18:30  Transporte   Transporte\n",
      "38  19:00      Estudo       Estudo\n",
      "39  19:30      Estudo       Estudo\n",
      "40  20:00      Estudo       Estudo\n",
      "41  20:30      Estudo       Estudo\n",
      "42  21:00      Estudo   Transporte\n",
      "43  21:30      Estudo        Lazer\n",
      "44  22:00      Estudo        Lazer\n",
      "45  22:30      Estudo        Lazer\n",
      "46  23:00  Transporte        Lazer\n",
      "47  23:30       Lazer        Lazer\n"
     ]
    }
   ],
   "source": [
    "import pandas as pd\n",
    "\n",
    "# Carrega o arquivo CSV\n",
    "df = pd.read_csv('diario.csv')\n",
    "\n",
    "# Exibe a tabela completa do arquivo diario.csv\n",
    "print(df)"
   ]
  },
  {
   "cell_type": "code",
   "execution_count": 6,
   "id": "b3a8dd56",
   "metadata": {},
   "outputs": [
    {
     "name": "stdout",
     "output_type": "stream",
     "text": [
      "         0      1      2      3      4      5      6      7      8      9   \\\n",
      "hora  00:00  00:30  01:00  01:30  02:00  02:30  03:00  03:30  04:00  04:30   \n",
      "dia1   Sono   Sono   Sono   Sono   Sono   Sono   Sono   Sono   Sono   Sono   \n",
      "dia2   Sono   Sono   Sono   Sono   Sono   Sono   Sono   Sono   Sono   Sono   \n",
      "\n",
      "      ...      38      39      40      41          42      43      44      45  \\\n",
      "hora  ...   19:00   19:30   20:00   20:30       21:00   21:30   22:00   22:30   \n",
      "dia1  ...  Estudo  Estudo  Estudo  Estudo      Estudo  Estudo  Estudo  Estudo   \n",
      "dia2  ...  Estudo  Estudo  Estudo  Estudo  Transporte   Lazer   Lazer   Lazer   \n",
      "\n",
      "              46     47  \n",
      "hora       23:00  23:30  \n",
      "dia1  Transporte  Lazer  \n",
      "dia2       Lazer  Lazer  \n",
      "\n",
      "[3 rows x 48 columns]\n"
     ]
    }
   ],
   "source": [
    "import pandas as pd\n",
    "\n",
    "# Carrega o arquivo CSV\n",
    "df = pd.read_csv('diario.csv')\n",
    "\n",
    "# Exibe a matriz transposta da tabela\n",
    "print(df.T)"
   ]
  }
 ],
 "metadata": {
  "kernelspec": {
   "display_name": "base",
   "language": "python",
   "name": "python3"
  },
  "language_info": {
   "codemirror_mode": {
    "name": "ipython",
    "version": 3
   },
   "file_extension": ".py",
   "mimetype": "text/x-python",
   "name": "python",
   "nbconvert_exporter": "python",
   "pygments_lexer": "ipython3",
   "version": "3.12.7"
  }
 },
 "nbformat": 4,
 "nbformat_minor": 5
}
