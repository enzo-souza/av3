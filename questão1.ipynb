{
 "cells": [
  {
   "cell_type": "code",
   "execution_count": null,
   "id": "a267855f",
   "metadata": {},
   "outputs": [
    {
     "name": "stdout",
     "output_type": "stream",
     "text": [
      "['00:00', 'Sono', 'Sono']\n",
      "['00:30', 'Sono', 'Sono']\n",
      "['01:00', 'Sono', 'Sono']\n",
      "['01:30', 'Sono', 'Sono']\n",
      "['02:00', 'Sono', 'Sono']\n",
      "['02:30', 'Sono', 'Sono']\n",
      "['03:00', 'Sono', 'Sono']\n",
      "['03:30', 'Sono', 'Sono']\n",
      "['04:00', 'Sono', 'Sono']\n",
      "['04:30', 'Sono', 'Sono']\n",
      "['05:00', 'Sono', 'Sono']\n",
      "['05:30', 'Sono', 'Sono']\n",
      "['06:00', 'Sono', 'Sono']\n",
      "['06:30', 'Sono', 'Sono']\n",
      "['07:00', 'Sono', 'Sono']\n",
      "['07:30', 'Sono', 'Sono']\n",
      "['08:00', 'Trabalho', 'Trabalho']\n",
      "['08:30', 'Trabalho', 'Trabalho']\n",
      "['09:00', 'Trabalho', 'Trabalho']\n",
      "['09:30', 'Trabalho', 'Trabalho']\n",
      "['10:00', 'Trabalho', 'Trabalho']\n",
      "['10:30', 'Trabalho', 'Trabalho']\n",
      "['11:00', 'Trabalho', 'Trabalho']\n",
      "['11:30', 'Trabalho', 'Trabalho']\n",
      "['12:00', 'almoço', 'mercado']\n",
      "['12:30', 'cochilo', 'mercado']\n",
      "['13:00', 'Trabalho', 'Trabalho']\n",
      "['13:30', 'Trabalho', 'Trabalho']\n",
      "['14:00', 'Trabalho', 'Trabalho']\n",
      "['14:30', 'Trabalho', 'Trabalho']\n",
      "['15:00', 'Trabalho', 'Trabalho']\n",
      "['15:30', 'Trabalho', 'Trabalho']\n",
      "['16:00', 'Trabalho', 'Trabalho']\n",
      "['16:30', 'Trabalho', 'Trabalho']\n",
      "['17:00', 'Trabalho', 'Trabalho']\n",
      "['17:30', 'Trabalho', 'Trabalho']\n",
      "['18:00', 'Trabalho', 'Alimentação']\n",
      "['18:30', 'Transporte', 'Transporte']\n",
      "['19:00', 'Estudo', 'Estudo']\n",
      "['19:30', 'Estudo', 'Estudo']\n",
      "['20:00', 'Estudo', 'Estudo']\n",
      "['20:30', 'Estudo', 'Estudo']\n",
      "['21:00', 'Estudo', 'Transporte']\n",
      "['21:30', 'Estudo', 'Lazer']\n",
      "['22:00', 'Estudo', 'Lazer']\n",
      "['22:30', 'Estudo', 'Lazer']\n",
      "['23:00', 'Transporte', 'Lazer']\n",
      "['23:30', 'Lazer', 'Lazer']\n"
     ]
    }
   ],
   "source": [
    "#primeira forma de visualização\n",
    "\n",
    "import pandas as pd\n",
    "\n",
    "# Carrega o arquivo CSV\n",
    "df = pd.read_csv('diario.csv')\n",
    "\n",
    "# Imprime cada linha do arquivo diario.csv\n",
    "for index, row in df.iterrows():\n",
    "    print(row.to_list())"
   ]
  },
  {
   "cell_type": "code",
   "execution_count": 15,
   "id": "40208ca1",
   "metadata": {},
   "outputs": [
    {
     "name": "stdout",
     "output_type": "stream",
     "text": [
      "[['00:00' '00:30' '01:00' '01:30' '02:00' '02:30' '03:00' '03:30' '04:00'\n",
      "  '04:30' '05:00' '05:30' '06:00' '06:30' '07:00' '07:30' '08:00' '08:30'\n",
      "  '09:00' '09:30' '10:00' '10:30' '11:00' '11:30' '12:00' '12:30' '13:00'\n",
      "  '13:30' '14:00' '14:30' '15:00' '15:30' '16:00' '16:30' '17:00' '17:30'\n",
      "  '18:00' '18:30' '19:00' '19:30' '20:00' '20:30' '21:00' '21:30' '22:00'\n",
      "  '22:30' '23:00' '23:30']\n",
      " ['Sono' 'Sono' 'Sono' 'Sono' 'Sono' 'Sono' 'Sono' 'Sono' 'Sono' 'Sono'\n",
      "  'Sono' 'Sono' 'Sono' 'Sono' 'Sono' 'Sono' 'Trabalho' 'Trabalho'\n",
      "  'Trabalho' 'Trabalho' 'Trabalho' 'Trabalho' 'Trabalho' 'Trabalho'\n",
      "  'almoço' 'cochilo' 'Trabalho' 'Trabalho' 'Trabalho' 'Trabalho'\n",
      "  'Trabalho' 'Trabalho' 'Trabalho' 'Trabalho' 'Trabalho' 'Trabalho'\n",
      "  'Trabalho' 'Transporte' 'Estudo' 'Estudo' 'Estudo' 'Estudo' 'Estudo'\n",
      "  'Estudo' 'Estudo' 'Estudo' 'Transporte' 'Lazer']\n",
      " ['Sono' 'Sono' 'Sono' 'Sono' 'Sono' 'Sono' 'Sono' 'Sono' 'Sono' 'Sono'\n",
      "  'Sono' 'Sono' 'Sono' 'Sono' 'Sono' 'Sono' 'Trabalho' 'Trabalho'\n",
      "  'Trabalho' 'Trabalho' 'Trabalho' 'Trabalho' 'Trabalho' 'Trabalho'\n",
      "  'mercado' 'mercado' 'Trabalho' 'Trabalho' 'Trabalho' 'Trabalho'\n",
      "  'Trabalho' 'Trabalho' 'Trabalho' 'Trabalho' 'Trabalho' 'Trabalho'\n",
      "  'Alimentação' 'Transporte' 'Estudo' 'Estudo' 'Estudo' 'Estudo'\n",
      "  'Transporte' 'Lazer' 'Lazer' 'Lazer' 'Lazer' 'Lazer']]\n"
     ]
    }
   ],
   "source": [
    "#segunda forma de visualização\n",
    "\n",
    "import pandas as pd\n",
    "# Carrega o arquivo CSV\n",
    "df = pd.read_csv('diario.csv')\n",
    "print(df.values.T)"
   ]
  }
 ],
 "metadata": {
  "kernelspec": {
   "display_name": "Python 3",
   "language": "python",
   "name": "python3"
  },
  "language_info": {
   "codemirror_mode": {
    "name": "ipython",
    "version": 3
   },
   "file_extension": ".py",
   "mimetype": "text/x-python",
   "name": "python",
   "nbconvert_exporter": "python",
   "pygments_lexer": "ipython3",
   "version": "3.12.7"
  }
 },
 "nbformat": 4,
 "nbformat_minor": 5
}
